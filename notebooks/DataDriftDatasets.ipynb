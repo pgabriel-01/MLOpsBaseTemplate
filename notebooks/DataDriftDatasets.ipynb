{
 "cells": [
  {
   "cell_type": "code",
   "execution_count": 23,
   "id": "dd95048d-63d0-4733-b369-d789e7c4e7d1",
   "metadata": {},
   "outputs": [],
   "source": [
    "#this cell will write the synthetic dataset to your local drive.\n",
    "#x goes into each function as a multiple of .1, but is converted to an integer at the last step, to suggest that this can be viewed as days, suggestive of a time series dataset\n",
    "#this dataset can be used in univariate data analysis, to suggest data drft over time\n",
    "import csv\n",
    "import math\n",
    "import os\n",
    "import numpy\n",
    "import random\n",
    "file_name = \"SyntheticDataDrftData.csv\"\n",
    "if file_name in os.listdir():\n",
    "    os.remove(os.getcwd() + \"/\" + file_name)\n",
    "\n",
    "csv_open = open(os.getcwd() + \"/\" + file_name, \"a\")\n",
    "csv_file = csv.writer(csv_open, lineterminator = \"\\n\")\n",
    "csv_file.writerow([\"Y\", \"X (Day)\", \"Sin(x)\", \"Cos(x+pi/2)\", \"Rand*x\"])\n",
    "for x in numpy.arange(0,20,.1):\n",
    "    sin = math.sin(x)\n",
    "    cos = math.cos(x)\n",
    "    rand = random.randint(0, 10) * x/10\n",
    "    csv_file.writerow([int(x * 10), sin + cos + rand, sin, cos, rand])\n",
    "csv_open.close()"
   ]
  },
  {
   "cell_type": "code",
   "execution_count": 27,
   "id": "26916f97-12d1-4ad7-95d5-a17f68b44585",
   "metadata": {},
   "outputs": [],
   "source": [
    "#this dataset will be used in multivariate analysis, to identify data drift\n",
    "#in reality, there is strong seasonality, but without identifying this, it will still appear as data drift\n",
    "import requests\n",
    "import shutil\n",
    "if os.getcwd() + \"/\" +\"biking_data.zip\" in os.listdir():\n",
    "    pass\n",
    "else:\n",
    "    biking_data = requests.get(\"https://archive.ics.uci.edu/ml/machine-learning-databases/00275/Bike-Sharing-Dataset.zip\")\n",
    "    with open(os.getcwd() + \"/\" +\"biking_data.zip\", \"wb\") as data:\n",
    "        biking_data.raw.decode_content = True\n",
    "        shutil.copyfileobj(biking_data.raw, data)\n"
   ]
  },
  {
   "cell_type": "code",
   "execution_count": 14,
   "id": "5c0e82e5-5f2c-45cf-900c-5d9336912ff3",
   "metadata": {},
   "outputs": [
    {
     "data": {
      "text/plain": [
       "5"
      ]
     },
     "execution_count": 14,
     "metadata": {},
     "output_type": "execute_result"
    }
   ],
   "source": [
    "import random\n"
   ]
  },
  {
   "cell_type": "code",
   "execution_count": null,
   "id": "3108e607-3567-4621-a43c-c068df933413",
   "metadata": {},
   "outputs": [],
   "source": []
  }
 ],
 "metadata": {
  "kernelspec": {
   "display_name": "Python 3 (ipykernel)",
   "language": "python",
   "name": "python3"
  },
  "language_info": {
   "codemirror_mode": {
    "name": "ipython",
    "version": 3
   },
   "file_extension": ".py",
   "mimetype": "text/x-python",
   "name": "python",
   "nbconvert_exporter": "python",
   "pygments_lexer": "ipython3",
   "version": "3.9.7"
  }
 },
 "nbformat": 4,
 "nbformat_minor": 5
}
